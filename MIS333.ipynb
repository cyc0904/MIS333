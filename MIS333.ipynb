{
  "cells": [
    {
      "cell_type": "code",
      "execution_count": 1,
      "metadata": {
        "id": "TRHdo-qWaNnD"
      },
      "outputs": [],
      "source": [
        "import pandas as pd\n",
        "import numpy as np\n",
        "from sklearn.impute import SimpleImputer"
      ]
    },
    {
      "cell_type": "code",
      "execution_count": 19,
      "metadata": {
        "id": "uw5X8TJLaWYH"
      },
      "outputs": [],
      "source": [
        "df = pd.read_excel('FIFA WORLD CUP.xlsx')\n",
        "pr = pd.read_excel('Predict.xlsx')"
      ]
    },
    {
      "cell_type": "code",
      "execution_count": null,
      "metadata": {},
      "outputs": [],
      "source": [
        "df['WORTH (€)'] = df['WORTH (€)'].str.replace('M', '')\n",
        "df['WORTH (€)'] = df['WORTH (€)'].astype(float)"
      ]
    },
    {
      "cell_type": "code",
      "execution_count": 22,
      "metadata": {},
      "outputs": [
        {
          "data": {
            "text/html": [
              "<div>\n",
              "<style scoped>\n",
              "    .dataframe tbody tr th:only-of-type {\n",
              "        vertical-align: middle;\n",
              "    }\n",
              "\n",
              "    .dataframe tbody tr th {\n",
              "        vertical-align: top;\n",
              "    }\n",
              "\n",
              "    .dataframe thead th {\n",
              "        text-align: right;\n",
              "    }\n",
              "</style>\n",
              "<table border=\"1\" class=\"dataframe\">\n",
              "  <thead>\n",
              "    <tr style=\"text-align: right;\">\n",
              "      <th></th>\n",
              "      <th>GROUP</th>\n",
              "      <th>COUNTRY</th>\n",
              "      <th>NO.</th>\n",
              "      <th>NAME</th>\n",
              "      <th>POSITION</th>\n",
              "      <th>HEIGHT</th>\n",
              "      <th>WORTH (€)</th>\n",
              "      <th>BIRTH</th>\n",
              "      <th>AGE</th>\n",
              "      <th>CLUB</th>\n",
              "      <th>...</th>\n",
              "      <th>Unnamed: 21</th>\n",
              "      <th>Unnamed: 22</th>\n",
              "      <th>Unnamed: 23</th>\n",
              "      <th>Unnamed: 24</th>\n",
              "      <th>Unnamed: 25</th>\n",
              "      <th>Unnamed: 26</th>\n",
              "      <th>Unnamed: 27</th>\n",
              "      <th>Unnamed: 28</th>\n",
              "      <th>Unnamed: 29</th>\n",
              "      <th>FIFA HIGHEST LEVEL</th>\n",
              "    </tr>\n",
              "  </thead>\n",
              "  <tbody>\n",
              "    <tr>\n",
              "      <th>0</th>\n",
              "      <td>A</td>\n",
              "      <td>QATAR</td>\n",
              "      <td>1</td>\n",
              "      <td>Saad Al Sheeb</td>\n",
              "      <td>GK</td>\n",
              "      <td>185</td>\n",
              "      <td>0.200</td>\n",
              "      <td>1990.02.19</td>\n",
              "      <td>32</td>\n",
              "      <td>Al-Sadd</td>\n",
              "      <td>...</td>\n",
              "      <td>NaN</td>\n",
              "      <td>NaN</td>\n",
              "      <td>NaN</td>\n",
              "      <td>NaN</td>\n",
              "      <td>NaN</td>\n",
              "      <td>NaN</td>\n",
              "      <td>NaN</td>\n",
              "      <td>NaN</td>\n",
              "      <td>NaN</td>\n",
              "      <td>90.0</td>\n",
              "    </tr>\n",
              "    <tr>\n",
              "      <th>1</th>\n",
              "      <td>A</td>\n",
              "      <td>QATAR</td>\n",
              "      <td>21</td>\n",
              "      <td>Yousef Hassan</td>\n",
              "      <td>GK</td>\n",
              "      <td>186</td>\n",
              "      <td>0.150</td>\n",
              "      <td>1996.05.24</td>\n",
              "      <td>26</td>\n",
              "      <td>Al-Gharafa</td>\n",
              "      <td>...</td>\n",
              "      <td>NaN</td>\n",
              "      <td>NaN</td>\n",
              "      <td>NaN</td>\n",
              "      <td>NaN</td>\n",
              "      <td>NaN</td>\n",
              "      <td>NaN</td>\n",
              "      <td>NaN</td>\n",
              "      <td>NaN</td>\n",
              "      <td>NaN</td>\n",
              "      <td>65.0</td>\n",
              "    </tr>\n",
              "    <tr>\n",
              "      <th>2</th>\n",
              "      <td>A</td>\n",
              "      <td>QATAR</td>\n",
              "      <td>22</td>\n",
              "      <td>Meshaal Barsham</td>\n",
              "      <td>GK</td>\n",
              "      <td>178</td>\n",
              "      <td>0.450</td>\n",
              "      <td>1998.02.14</td>\n",
              "      <td>24</td>\n",
              "      <td>Al-Sadd</td>\n",
              "      <td>...</td>\n",
              "      <td>NaN</td>\n",
              "      <td>NaN</td>\n",
              "      <td>NaN</td>\n",
              "      <td>NaN</td>\n",
              "      <td>NaN</td>\n",
              "      <td>NaN</td>\n",
              "      <td>NaN</td>\n",
              "      <td>NaN</td>\n",
              "      <td>NaN</td>\n",
              "      <td>65.0</td>\n",
              "    </tr>\n",
              "    <tr>\n",
              "      <th>3</th>\n",
              "      <td>A</td>\n",
              "      <td>QATAR</td>\n",
              "      <td>2</td>\n",
              "      <td>Ró-Ró</td>\n",
              "      <td>DF</td>\n",
              "      <td>182</td>\n",
              "      <td>0.325</td>\n",
              "      <td>1990.08.06</td>\n",
              "      <td>32</td>\n",
              "      <td>Al-Sadd</td>\n",
              "      <td>...</td>\n",
              "      <td>NaN</td>\n",
              "      <td>NaN</td>\n",
              "      <td>NaN</td>\n",
              "      <td>NaN</td>\n",
              "      <td>NaN</td>\n",
              "      <td>NaN</td>\n",
              "      <td>NaN</td>\n",
              "      <td>NaN</td>\n",
              "      <td>NaN</td>\n",
              "      <td>69.0</td>\n",
              "    </tr>\n",
              "    <tr>\n",
              "      <th>4</th>\n",
              "      <td>A</td>\n",
              "      <td>QATAR</td>\n",
              "      <td>4</td>\n",
              "      <td>Mohammed Waad</td>\n",
              "      <td>DF</td>\n",
              "      <td>183</td>\n",
              "      <td>0.400</td>\n",
              "      <td>1999.09.18</td>\n",
              "      <td>23</td>\n",
              "      <td>Al-Sadd</td>\n",
              "      <td>...</td>\n",
              "      <td>NaN</td>\n",
              "      <td>NaN</td>\n",
              "      <td>NaN</td>\n",
              "      <td>NaN</td>\n",
              "      <td>NaN</td>\n",
              "      <td>NaN</td>\n",
              "      <td>NaN</td>\n",
              "      <td>NaN</td>\n",
              "      <td>NaN</td>\n",
              "      <td>65.0</td>\n",
              "    </tr>\n",
              "    <tr>\n",
              "      <th>...</th>\n",
              "      <td>...</td>\n",
              "      <td>...</td>\n",
              "      <td>...</td>\n",
              "      <td>...</td>\n",
              "      <td>...</td>\n",
              "      <td>...</td>\n",
              "      <td>...</td>\n",
              "      <td>...</td>\n",
              "      <td>...</td>\n",
              "      <td>...</td>\n",
              "      <td>...</td>\n",
              "      <td>...</td>\n",
              "      <td>...</td>\n",
              "      <td>...</td>\n",
              "      <td>...</td>\n",
              "      <td>...</td>\n",
              "      <td>...</td>\n",
              "      <td>...</td>\n",
              "      <td>...</td>\n",
              "      <td>...</td>\n",
              "      <td>...</td>\n",
              "    </tr>\n",
              "    <tr>\n",
              "      <th>825</th>\n",
              "      <td>H</td>\n",
              "      <td>Uruguay</td>\n",
              "      <td>9</td>\n",
              "      <td>Luis Suárez</td>\n",
              "      <td>FW</td>\n",
              "      <td>182</td>\n",
              "      <td>4.000</td>\n",
              "      <td>1987.01.24</td>\n",
              "      <td>35</td>\n",
              "      <td>Nacional</td>\n",
              "      <td>...</td>\n",
              "      <td>NaN</td>\n",
              "      <td>NaN</td>\n",
              "      <td>NaN</td>\n",
              "      <td>NaN</td>\n",
              "      <td>NaN</td>\n",
              "      <td>NaN</td>\n",
              "      <td>NaN</td>\n",
              "      <td>NaN</td>\n",
              "      <td>NaN</td>\n",
              "      <td>98.0</td>\n",
              "    </tr>\n",
              "    <tr>\n",
              "      <th>826</th>\n",
              "      <td>H</td>\n",
              "      <td>Uruguay</td>\n",
              "      <td>11</td>\n",
              "      <td>Darwin Núñez</td>\n",
              "      <td>FW</td>\n",
              "      <td>187</td>\n",
              "      <td>70.000</td>\n",
              "      <td>1999.06.24</td>\n",
              "      <td>23</td>\n",
              "      <td>Liverpool</td>\n",
              "      <td>...</td>\n",
              "      <td>NaN</td>\n",
              "      <td>NaN</td>\n",
              "      <td>NaN</td>\n",
              "      <td>NaN</td>\n",
              "      <td>NaN</td>\n",
              "      <td>NaN</td>\n",
              "      <td>NaN</td>\n",
              "      <td>NaN</td>\n",
              "      <td>NaN</td>\n",
              "      <td>98.0</td>\n",
              "    </tr>\n",
              "    <tr>\n",
              "      <th>827</th>\n",
              "      <td>H</td>\n",
              "      <td>Uruguay</td>\n",
              "      <td>18</td>\n",
              "      <td>Maxi Gómez</td>\n",
              "      <td>FW</td>\n",
              "      <td>186</td>\n",
              "      <td>7.500</td>\n",
              "      <td>1996.08.14</td>\n",
              "      <td>26</td>\n",
              "      <td>Trabzonspor</td>\n",
              "      <td>...</td>\n",
              "      <td>NaN</td>\n",
              "      <td>NaN</td>\n",
              "      <td>NaN</td>\n",
              "      <td>NaN</td>\n",
              "      <td>NaN</td>\n",
              "      <td>NaN</td>\n",
              "      <td>NaN</td>\n",
              "      <td>NaN</td>\n",
              "      <td>NaN</td>\n",
              "      <td>100.0</td>\n",
              "    </tr>\n",
              "    <tr>\n",
              "      <th>828</th>\n",
              "      <td>H</td>\n",
              "      <td>Uruguay</td>\n",
              "      <td>20</td>\n",
              "      <td>Facundo Torres</td>\n",
              "      <td>FW</td>\n",
              "      <td>177</td>\n",
              "      <td>8.000</td>\n",
              "      <td>2000.04.13</td>\n",
              "      <td>22</td>\n",
              "      <td>Orlando City SC</td>\n",
              "      <td>...</td>\n",
              "      <td>NaN</td>\n",
              "      <td>NaN</td>\n",
              "      <td>NaN</td>\n",
              "      <td>NaN</td>\n",
              "      <td>NaN</td>\n",
              "      <td>NaN</td>\n",
              "      <td>NaN</td>\n",
              "      <td>NaN</td>\n",
              "      <td>NaN</td>\n",
              "      <td>73.0</td>\n",
              "    </tr>\n",
              "    <tr>\n",
              "      <th>829</th>\n",
              "      <td>H</td>\n",
              "      <td>Uruguay</td>\n",
              "      <td>21</td>\n",
              "      <td>Edinson Cavani</td>\n",
              "      <td>FW</td>\n",
              "      <td>184</td>\n",
              "      <td>5.000</td>\n",
              "      <td>1987.02.14</td>\n",
              "      <td>35</td>\n",
              "      <td>Valencia</td>\n",
              "      <td>...</td>\n",
              "      <td>NaN</td>\n",
              "      <td>NaN</td>\n",
              "      <td>NaN</td>\n",
              "      <td>NaN</td>\n",
              "      <td>NaN</td>\n",
              "      <td>NaN</td>\n",
              "      <td>NaN</td>\n",
              "      <td>NaN</td>\n",
              "      <td>NaN</td>\n",
              "      <td>99.0</td>\n",
              "    </tr>\n",
              "  </tbody>\n",
              "</table>\n",
              "<p>830 rows × 31 columns</p>\n",
              "</div>"
            ],
            "text/plain": [
              "    GROUP  COUNTRY  NO.             NAME POSITION  HEIGHT  WORTH (€)  \\\n",
              "0       A    QATAR    1    Saad Al Sheeb       GK     185      0.200   \n",
              "1       A    QATAR   21    Yousef Hassan       GK     186      0.150   \n",
              "2       A    QATAR   22  Meshaal Barsham       GK     178      0.450   \n",
              "3       A    QATAR    2            Ró-Ró       DF     182      0.325   \n",
              "4       A    QATAR    4    Mohammed Waad       DF     183      0.400   \n",
              "..    ...      ...  ...              ...      ...     ...        ...   \n",
              "825     H  Uruguay    9      Luis Suárez       FW     182      4.000   \n",
              "826     H  Uruguay   11     Darwin Núñez       FW     187     70.000   \n",
              "827     H  Uruguay   18       Maxi Gómez       FW     186      7.500   \n",
              "828     H  Uruguay   20   Facundo Torres       FW     177      8.000   \n",
              "829     H  Uruguay   21   Edinson Cavani       FW     184      5.000   \n",
              "\n",
              "          BIRTH  AGE             CLUB  ... Unnamed: 21  Unnamed: 22  \\\n",
              "0    1990.02.19   32          Al-Sadd  ...         NaN          NaN   \n",
              "1    1996.05.24   26       Al-Gharafa  ...         NaN          NaN   \n",
              "2    1998.02.14   24          Al-Sadd  ...         NaN          NaN   \n",
              "3    1990.08.06   32          Al-Sadd  ...         NaN          NaN   \n",
              "4    1999.09.18   23          Al-Sadd  ...         NaN          NaN   \n",
              "..          ...  ...              ...  ...         ...          ...   \n",
              "825  1987.01.24   35         Nacional  ...         NaN          NaN   \n",
              "826  1999.06.24   23        Liverpool  ...         NaN          NaN   \n",
              "827  1996.08.14   26      Trabzonspor  ...         NaN          NaN   \n",
              "828  2000.04.13   22  Orlando City SC  ...         NaN          NaN   \n",
              "829  1987.02.14   35         Valencia  ...         NaN          NaN   \n",
              "\n",
              "     Unnamed: 23  Unnamed: 24  Unnamed: 25  Unnamed: 26  Unnamed: 27  \\\n",
              "0            NaN          NaN          NaN          NaN          NaN   \n",
              "1            NaN          NaN          NaN          NaN          NaN   \n",
              "2            NaN          NaN          NaN          NaN          NaN   \n",
              "3            NaN          NaN          NaN          NaN          NaN   \n",
              "4            NaN          NaN          NaN          NaN          NaN   \n",
              "..           ...          ...          ...          ...          ...   \n",
              "825          NaN          NaN          NaN          NaN          NaN   \n",
              "826          NaN          NaN          NaN          NaN          NaN   \n",
              "827          NaN          NaN          NaN          NaN          NaN   \n",
              "828          NaN          NaN          NaN          NaN          NaN   \n",
              "829          NaN          NaN          NaN          NaN          NaN   \n",
              "\n",
              "     Unnamed: 28  Unnamed: 29  FIFA HIGHEST LEVEL  \n",
              "0            NaN          NaN                90.0  \n",
              "1            NaN          NaN                65.0  \n",
              "2            NaN          NaN                65.0  \n",
              "3            NaN          NaN                69.0  \n",
              "4            NaN          NaN                65.0  \n",
              "..           ...          ...                 ...  \n",
              "825          NaN          NaN                98.0  \n",
              "826          NaN          NaN                98.0  \n",
              "827          NaN          NaN               100.0  \n",
              "828          NaN          NaN                73.0  \n",
              "829          NaN          NaN                99.0  \n",
              "\n",
              "[830 rows x 31 columns]"
            ]
          },
          "execution_count": 22,
          "metadata": {},
          "output_type": "execute_result"
        }
      ],
      "source": [
        "df"
      ]
    },
    {
      "cell_type": "code",
      "execution_count": 23,
      "metadata": {
        "colab": {
          "base_uri": "https://localhost:8080/",
          "height": 206
        },
        "id": "x4L9Hmttabjs",
        "outputId": "4f295b5a-baae-4c89-bda1-5f49d18ec4e6"
      },
      "outputs": [
        {
          "data": {
            "text/html": [
              "<div>\n",
              "<style scoped>\n",
              "    .dataframe tbody tr th:only-of-type {\n",
              "        vertical-align: middle;\n",
              "    }\n",
              "\n",
              "    .dataframe tbody tr th {\n",
              "        vertical-align: top;\n",
              "    }\n",
              "\n",
              "    .dataframe thead th {\n",
              "        text-align: right;\n",
              "    }\n",
              "</style>\n",
              "<table border=\"1\" class=\"dataframe\">\n",
              "  <thead>\n",
              "    <tr style=\"text-align: right;\">\n",
              "      <th></th>\n",
              "      <th>COUNTRY</th>\n",
              "      <th>HEIGHT</th>\n",
              "      <th>WORTH (€)</th>\n",
              "      <th>AGE</th>\n",
              "      <th>INTERNATIONAL MATCHES</th>\n",
              "      <th>PREVIOUS　GOALS</th>\n",
              "    </tr>\n",
              "  </thead>\n",
              "  <tbody>\n",
              "    <tr>\n",
              "      <th>0</th>\n",
              "      <td>QATAR</td>\n",
              "      <td>185</td>\n",
              "      <td>0.200</td>\n",
              "      <td>32</td>\n",
              "      <td>80</td>\n",
              "      <td>0</td>\n",
              "    </tr>\n",
              "    <tr>\n",
              "      <th>1</th>\n",
              "      <td>QATAR</td>\n",
              "      <td>186</td>\n",
              "      <td>0.150</td>\n",
              "      <td>26</td>\n",
              "      <td>9</td>\n",
              "      <td>0</td>\n",
              "    </tr>\n",
              "    <tr>\n",
              "      <th>2</th>\n",
              "      <td>QATAR</td>\n",
              "      <td>178</td>\n",
              "      <td>0.450</td>\n",
              "      <td>24</td>\n",
              "      <td>15</td>\n",
              "      <td>0</td>\n",
              "    </tr>\n",
              "    <tr>\n",
              "      <th>3</th>\n",
              "      <td>QATAR</td>\n",
              "      <td>182</td>\n",
              "      <td>0.325</td>\n",
              "      <td>32</td>\n",
              "      <td>78</td>\n",
              "      <td>1</td>\n",
              "    </tr>\n",
              "    <tr>\n",
              "      <th>4</th>\n",
              "      <td>QATAR</td>\n",
              "      <td>183</td>\n",
              "      <td>0.400</td>\n",
              "      <td>23</td>\n",
              "      <td>20</td>\n",
              "      <td>0</td>\n",
              "    </tr>\n",
              "  </tbody>\n",
              "</table>\n",
              "</div>"
            ],
            "text/plain": [
              "  COUNTRY  HEIGHT  WORTH (€)  AGE  INTERNATIONAL MATCHES  PREVIOUS　GOALS\n",
              "0   QATAR     185      0.200   32                     80               0\n",
              "1   QATAR     186      0.150   26                      9               0\n",
              "2   QATAR     178      0.450   24                     15               0\n",
              "3   QATAR     182      0.325   32                     78               1\n",
              "4   QATAR     183      0.400   23                     20               0"
            ]
          },
          "execution_count": 23,
          "metadata": {},
          "output_type": "execute_result"
        }
      ],
      "source": [
        "multi = df[['COUNTRY', 'HEIGHT' , 'WORTH (€)' ,'AGE' , 'INTERNATIONAL MATCHES' , 'PREVIOUS　GOALS']]\n",
        "multi.head()"
      ]
    },
    {
      "cell_type": "code",
      "execution_count": 24,
      "metadata": {
        "colab": {
          "base_uri": "https://localhost:8080/",
          "height": 238
        },
        "id": "EsVk9HeVakln",
        "outputId": "363e1745-4675-407d-f688-5fac2ddf4f6d"
      },
      "outputs": [
        {
          "data": {
            "text/html": [
              "<div>\n",
              "<style scoped>\n",
              "    .dataframe tbody tr th:only-of-type {\n",
              "        vertical-align: middle;\n",
              "    }\n",
              "\n",
              "    .dataframe tbody tr th {\n",
              "        vertical-align: top;\n",
              "    }\n",
              "\n",
              "    .dataframe thead th {\n",
              "        text-align: right;\n",
              "    }\n",
              "</style>\n",
              "<table border=\"1\" class=\"dataframe\">\n",
              "  <thead>\n",
              "    <tr style=\"text-align: right;\">\n",
              "      <th></th>\n",
              "      <th>HEIGHT</th>\n",
              "      <th>WORTH (€)</th>\n",
              "      <th>AGE</th>\n",
              "      <th>INTERNATIONAL MATCHES</th>\n",
              "      <th>PREVIOUS　GOALS</th>\n",
              "    </tr>\n",
              "    <tr>\n",
              "      <th>COUNTRY</th>\n",
              "      <th></th>\n",
              "      <th></th>\n",
              "      <th></th>\n",
              "      <th></th>\n",
              "      <th></th>\n",
              "    </tr>\n",
              "  </thead>\n",
              "  <tbody>\n",
              "    <tr>\n",
              "      <th>Argentina</th>\n",
              "      <td>178.769231</td>\n",
              "      <td>24.700000</td>\n",
              "      <td>27.769231</td>\n",
              "      <td>35.307692</td>\n",
              "      <td>6.461538</td>\n",
              "    </tr>\n",
              "    <tr>\n",
              "      <th>Australia</th>\n",
              "      <td>181.038462</td>\n",
              "      <td>1.434615</td>\n",
              "      <td>27.153846</td>\n",
              "      <td>21.961538</td>\n",
              "      <td>2.115385</td>\n",
              "    </tr>\n",
              "    <tr>\n",
              "      <th>Belgium</th>\n",
              "      <td>185.153846</td>\n",
              "      <td>21.661538</td>\n",
              "      <td>27.807692</td>\n",
              "      <td>53.384615</td>\n",
              "      <td>9.538462</td>\n",
              "    </tr>\n",
              "    <tr>\n",
              "      <th>Brazil</th>\n",
              "      <td>180.730769</td>\n",
              "      <td>43.923077</td>\n",
              "      <td>27.884615</td>\n",
              "      <td>37.307692</td>\n",
              "      <td>6.269231</td>\n",
              "    </tr>\n",
              "    <tr>\n",
              "      <th>Cameroon</th>\n",
              "      <td>181.807692</td>\n",
              "      <td>5.961538</td>\n",
              "      <td>26.307692</td>\n",
              "      <td>26.807692</td>\n",
              "      <td>3.384615</td>\n",
              "    </tr>\n",
              "  </tbody>\n",
              "</table>\n",
              "</div>"
            ],
            "text/plain": [
              "               HEIGHT  WORTH (€)        AGE  INTERNATIONAL MATCHES  \\\n",
              "COUNTRY                                                              \n",
              "Argentina  178.769231  24.700000  27.769231              35.307692   \n",
              "Australia  181.038462   1.434615  27.153846              21.961538   \n",
              "Belgium    185.153846  21.661538  27.807692              53.384615   \n",
              "Brazil     180.730769  43.923077  27.884615              37.307692   \n",
              "Cameroon   181.807692   5.961538  26.307692              26.807692   \n",
              "\n",
              "           PREVIOUS　GOALS  \n",
              "COUNTRY                    \n",
              "Argentina        6.461538  \n",
              "Australia        2.115385  \n",
              "Belgium          9.538462  \n",
              "Brazil           6.269231  \n",
              "Cameroon         3.384615  "
            ]
          },
          "execution_count": 24,
          "metadata": {},
          "output_type": "execute_result"
        }
      ],
      "source": [
        "multi.groupby('COUNTRY').mean().head()"
      ]
    },
    {
      "cell_type": "code",
      "execution_count": 25,
      "metadata": {
        "id": "VjMMdtqBas-V"
      },
      "outputs": [],
      "source": [
        "standard = pr[['Year' , 'Height' , 'Worth', 'Age' , 'International Matches' , 'Goals']]"
      ]
    },
    {
      "cell_type": "code",
      "execution_count": 11,
      "metadata": {
        "colab": {
          "base_uri": "https://localhost:8080/",
          "height": 81
        },
        "id": "leRIK7oka2XN",
        "outputId": "51f336e3-fc12-4cf2-f5cd-8c9d4538f813"
      },
      "outputs": [
        {
          "data": {
            "text/html": [
              "<div>\n",
              "<style scoped>\n",
              "    .dataframe tbody tr th:only-of-type {\n",
              "        vertical-align: middle;\n",
              "    }\n",
              "\n",
              "    .dataframe tbody tr th {\n",
              "        vertical-align: top;\n",
              "    }\n",
              "\n",
              "    .dataframe thead th {\n",
              "        text-align: right;\n",
              "    }\n",
              "</style>\n",
              "<table border=\"1\" class=\"dataframe\">\n",
              "  <thead>\n",
              "    <tr style=\"text-align: right;\">\n",
              "      <th></th>\n",
              "      <th>Height</th>\n",
              "      <th>Worth</th>\n",
              "      <th>Age</th>\n",
              "      <th>Goals</th>\n",
              "    </tr>\n",
              "  </thead>\n",
              "  <tbody>\n",
              "    <tr>\n",
              "      <th>0</th>\n",
              "      <td>181.177778</td>\n",
              "      <td>28.923913</td>\n",
              "      <td>26.875556</td>\n",
              "      <td>8.917808</td>\n",
              "    </tr>\n",
              "  </tbody>\n",
              "</table>\n",
              "</div>"
            ],
            "text/plain": [
              "       Height      Worth        Age     Goals\n",
              "0  181.177778  28.923913  26.875556  8.917808"
            ]
          },
          "execution_count": 11,
          "metadata": {},
          "output_type": "execute_result"
        }
      ],
      "source": [
        "imr = SimpleImputer(missing_values=np.nan, strategy ='mean')\n",
        "new_standard = imr.fit_transform(standard)\n",
        "new_standard = pd.DataFrame(new_standard)\n",
        "new_standard.columns= ['Year' , 'Height' , 'Worth', 'Age' , 'International Matches' , 'Goals']\n",
        "height = standard['Height'].mean()\n",
        "worth = standard['Worth'].mean()\n",
        "age = standard['Age'].mean()\n",
        "goals = standard['Goals'].mean()\n",
        "df = pd.DataFrame(data = [[height, worth, age, goals]],\n",
        "    columns = ['Height' , 'Worth', 'Age', 'Goals'])\n",
        "#最終基準\n",
        "df"
      ]
    },
    {
      "cell_type": "code",
      "execution_count": 12,
      "metadata": {
        "id": "Ro0E6k5cbU-S"
      },
      "outputs": [],
      "source": [
        "def seq(x,y,z):\n",
        "\n",
        "   x=x-z\n",
        "   sequence=pd.DataFrame(data=x,index=y,columns=['error'])\n",
        "   sequence.insert(1,'scores',sequence.rank(ascending=True))\n",
        "     \n",
        "   return sequence"
      ]
    },
    {
      "cell_type": "code",
      "execution_count": 13,
      "metadata": {
        "id": "AeHeFH6VbdFi"
      },
      "outputs": [],
      "source": [
        "\n",
        "def cal_rel(x, y):\n",
        "    rel = abs(x-y)\n",
        "    return rel"
      ]
    },
    {
      "cell_type": "code",
      "execution_count": 49,
      "metadata": {
        "id": "lNWVGzeKbgbs"
      },
      "outputs": [],
      "source": [
        "def create_df(a, b): \n",
        "    data = {\n",
        "        \"diff\" : a,\n",
        "        \"score\" : b\n",
        "    }\n",
        "    df = pd.DataFrame(data)\n",
        "    df.index = [\"Croatia\", \"Argentina\", \"Morocco\", \"France\"]\n",
        "    df.columns = [\"difference\", \"score\"]\n",
        "    print(df)"
      ]
    },
    {
      "cell_type": "code",
      "execution_count": 15,
      "metadata": {
        "id": "McIJRfz7bplP"
      },
      "outputs": [],
      "source": [
        "def cal_total(x, y ,z ,q):\n",
        "    total = x*0.25+y*0.25+z*0.25+q*0.25\n",
        "    return total"
      ]
    },
    {
      "cell_type": "code",
      "execution_count": 54,
      "metadata": {
        "id": "LMWcvlh6b6ku"
      },
      "outputs": [],
      "source": [
        "def winner(a, b): \n",
        "    data = {\n",
        "        \"total\" : a,\n",
        "        \"rank\" : b\n",
        "    }\n",
        "    df = pd.DataFrame(data)\n",
        "    df.index = [\"Croatia\", \"Argentina\", \"Morocco\", \"France\"]\n",
        "    df.columns = [\"total score\", \"rank\"]\n",
        "    print(df)\n",
        "    winner = df.index[(df['rank'] == 1)].tolist()\n",
        "    print(\"The winner is\", winner[0])"
      ]
    },
    {
      "cell_type": "code",
      "execution_count": 18,
      "metadata": {
        "colab": {
          "base_uri": "https://localhost:8080/",
          "height": 206
        },
        "id": "f67EgOfbbZT-",
        "outputId": "85c80464-6ef9-4bab-fac1-0a81fc86aa65"
      },
      "outputs": [
        {
          "data": {
            "text/html": [
              "<div>\n",
              "<style scoped>\n",
              "    .dataframe tbody tr th:only-of-type {\n",
              "        vertical-align: middle;\n",
              "    }\n",
              "\n",
              "    .dataframe tbody tr th {\n",
              "        vertical-align: top;\n",
              "    }\n",
              "\n",
              "    .dataframe thead th {\n",
              "        text-align: right;\n",
              "    }\n",
              "</style>\n",
              "<table border=\"1\" class=\"dataframe\">\n",
              "  <thead>\n",
              "    <tr style=\"text-align: right;\">\n",
              "      <th></th>\n",
              "      <th>Height</th>\n",
              "      <th>Worth</th>\n",
              "      <th>Age</th>\n",
              "      <th>Goals</th>\n",
              "    </tr>\n",
              "  </thead>\n",
              "  <tbody>\n",
              "    <tr>\n",
              "      <th>0</th>\n",
              "      <td>181.177778</td>\n",
              "      <td>28.923913</td>\n",
              "      <td>26.875556</td>\n",
              "      <td>8.917808</td>\n",
              "    </tr>\n",
              "  </tbody>\n",
              "</table>\n",
              "</div>"
            ],
            "text/plain": [
              "       Height      Worth        Age     Goals\n",
              "0  181.177778  28.923913  26.875556  8.917808"
            ]
          },
          "execution_count": 18,
          "metadata": {},
          "output_type": "execute_result"
        }
      ],
      "source": [
        "df.head()"
      ]
    },
    {
      "cell_type": "code",
      "execution_count": 26,
      "metadata": {
        "id": "WtERl3NRb_lE"
      },
      "outputs": [],
      "source": [
        "dfPortugal = df[df['COUNTRY'] == 'Portugal']\n",
        "dfEngland = df[df['COUNTRY'] == 'England']\n",
        "dfFrance = df[df['COUNTRY'] == 'France']\n",
        "dfMorocco = df[df['COUNTRY'] == 'Morocco']\n",
        "dfNetherlands = df[df['COUNTRY'] == 'Netherlands']\n",
        "dfArgentina = df[df['COUNTRY'] == 'Argentina']\n",
        "dfCroatia = df[df['COUNTRY'] == 'Croatia']\n",
        "dfBrazil = df[df['COUNTRY'] == 'Brazil']"
      ]
    },
    {
      "cell_type": "code",
      "execution_count": 28,
      "metadata": {
        "id": "OQFg3J2IcLwW"
      },
      "outputs": [],
      "source": [
        "C_amean = dfCroatia['AGE'].mean()\n",
        "C_hmean = dfCroatia['HEIGHT'].mean()\n",
        "C_age = cal_rel(C_amean, age)\n",
        "C_height = cal_rel(C_hmean, height)\n",
        "\n",
        "B_amean = dfBrazil['AGE'].mean()\n",
        "B_hmean = dfBrazil['HEIGHT'].mean()\n",
        "B_age = cal_rel(B_amean, age)\n",
        "B_height = cal_rel(B_hmean, height)\n",
        "\n",
        "N_amean = dfNetherlands['AGE'].mean()\n",
        "N_hmean = dfNetherlands['HEIGHT'].mean()\n",
        "N_age = cal_rel(N_amean, age)\n",
        "N_height = cal_rel(N_hmean, height)\n",
        "\n",
        "A_amean = dfArgentina['AGE'].mean()\n",
        "A_hmean = dfArgentina['HEIGHT'].mean()\n",
        "A_age = cal_rel(A_amean, age)\n",
        "A_height = cal_rel(A_hmean, height)\n",
        "\n",
        "M_amean = dfMorocco['AGE'].mean()\n",
        "M_hmean = dfMorocco['HEIGHT'].mean()\n",
        "M_age = cal_rel(M_amean, age)\n",
        "M_height = cal_rel(M_hmean, height)\n",
        "\n",
        "P_amean = dfPortugal['AGE'].mean()\n",
        "P_hmean = dfPortugal['HEIGHT'].mean()\n",
        "P_age = cal_rel(P_amean, age)\n",
        "P_height = cal_rel(P_hmean, height)\n",
        "\n",
        "E_amean = dfEngland['AGE'].mean()\n",
        "E_hmean = dfEngland['HEIGHT'].mean()\n",
        "E_age = cal_rel(E_amean, age)\n",
        "E_height = cal_rel(E_hmean, height)\n",
        "\n",
        "F_amean = dfFrance['AGE'].mean()\n",
        "F_hmean = dfFrance['HEIGHT'].mean()\n",
        "F_age = cal_rel(F_amean, age)\n",
        "F_height = cal_rel(F_hmean, height)\n"
      ]
    },
    {
      "cell_type": "code",
      "execution_count": 38,
      "metadata": {
        "id": "FCLhgT73ciIG"
      },
      "outputs": [],
      "source": [
        "S=[dfCroatia['PREVIOUS　GOALS'].mean(), dfArgentina['PREVIOUS　GOALS'].mean(), dfMorocco['PREVIOUS　GOALS'].mean(), dfFrance['PREVIOUS　GOALS'].mean()]\n",
        "W=[dfCroatia['WORTH (€)'].mean(), dfArgentina['WORTH (€)'].mean(),dfMorocco ['WORTH (€)'].mean(), dfFrance ['WORTH (€)'].mean()]\n",
        "C=['Croatia', 'Argentina', 'Morocco', 'France']"
      ]
    },
    {
      "cell_type": "code",
      "execution_count": 39,
      "metadata": {
        "colab": {
          "base_uri": "https://localhost:8080/",
          "height": 300
        },
        "id": "xIo2feAsdaOi",
        "outputId": "3de7fd92-cd6d-412d-cb88-dc10af38a6e5"
      },
      "outputs": [
        {
          "data": {
            "text/html": [
              "<div>\n",
              "<style scoped>\n",
              "    .dataframe tbody tr th:only-of-type {\n",
              "        vertical-align: middle;\n",
              "    }\n",
              "\n",
              "    .dataframe tbody tr th {\n",
              "        vertical-align: top;\n",
              "    }\n",
              "\n",
              "    .dataframe thead th {\n",
              "        text-align: right;\n",
              "    }\n",
              "</style>\n",
              "<table border=\"1\" class=\"dataframe\">\n",
              "  <thead>\n",
              "    <tr style=\"text-align: right;\">\n",
              "      <th></th>\n",
              "      <th>error</th>\n",
              "      <th>scores</th>\n",
              "    </tr>\n",
              "  </thead>\n",
              "  <tbody>\n",
              "    <tr>\n",
              "      <th>Croatia</th>\n",
              "      <td>-3.956270</td>\n",
              "      <td>2.0</td>\n",
              "    </tr>\n",
              "    <tr>\n",
              "      <th>Argentina</th>\n",
              "      <td>-2.456270</td>\n",
              "      <td>4.0</td>\n",
              "    </tr>\n",
              "    <tr>\n",
              "      <th>Morocco</th>\n",
              "      <td>-5.917808</td>\n",
              "      <td>1.0</td>\n",
              "    </tr>\n",
              "    <tr>\n",
              "      <th>France</th>\n",
              "      <td>-2.997808</td>\n",
              "      <td>3.0</td>\n",
              "    </tr>\n",
              "  </tbody>\n",
              "</table>\n",
              "</div>"
            ],
            "text/plain": [
              "              error  scores\n",
              "Croatia   -3.956270     2.0\n",
              "Argentina -2.456270     4.0\n",
              "Morocco   -5.917808     1.0\n",
              "France    -2.997808     3.0"
            ]
          },
          "execution_count": 39,
          "metadata": {},
          "output_type": "execute_result"
        }
      ],
      "source": [
        "g_score=seq(S,C,goals)['scores']\n",
        "g_score=g_score.reset_index(drop=True)\n",
        "seq(S,C,goals)\n"
      ]
    },
    {
      "cell_type": "code",
      "execution_count": 40,
      "metadata": {
        "colab": {
          "base_uri": "https://localhost:8080/",
          "height": 300
        },
        "id": "QPTA_2P0d0FE",
        "outputId": "ad85cbc2-cfc4-4356-a50c-ebf07be40e9a"
      },
      "outputs": [
        {
          "data": {
            "text/html": [
              "<div>\n",
              "<style scoped>\n",
              "    .dataframe tbody tr th:only-of-type {\n",
              "        vertical-align: middle;\n",
              "    }\n",
              "\n",
              "    .dataframe tbody tr th {\n",
              "        vertical-align: top;\n",
              "    }\n",
              "\n",
              "    .dataframe thead th {\n",
              "        text-align: right;\n",
              "    }\n",
              "</style>\n",
              "<table border=\"1\" class=\"dataframe\">\n",
              "  <thead>\n",
              "    <tr style=\"text-align: right;\">\n",
              "      <th></th>\n",
              "      <th>error</th>\n",
              "      <th>scores</th>\n",
              "    </tr>\n",
              "  </thead>\n",
              "  <tbody>\n",
              "    <tr>\n",
              "      <th>Croatia</th>\n",
              "      <td>-14.423913</td>\n",
              "      <td>2.0</td>\n",
              "    </tr>\n",
              "    <tr>\n",
              "      <th>Argentina</th>\n",
              "      <td>-4.223913</td>\n",
              "      <td>3.0</td>\n",
              "    </tr>\n",
              "    <tr>\n",
              "      <th>Morocco</th>\n",
              "      <td>-19.650836</td>\n",
              "      <td>1.0</td>\n",
              "    </tr>\n",
              "    <tr>\n",
              "      <th>France</th>\n",
              "      <td>10.976087</td>\n",
              "      <td>4.0</td>\n",
              "    </tr>\n",
              "  </tbody>\n",
              "</table>\n",
              "</div>"
            ],
            "text/plain": [
              "               error  scores\n",
              "Croatia   -14.423913     2.0\n",
              "Argentina  -4.223913     3.0\n",
              "Morocco   -19.650836     1.0\n",
              "France     10.976087     4.0"
            ]
          },
          "execution_count": 40,
          "metadata": {},
          "output_type": "execute_result"
        }
      ],
      "source": [
        "w_score=seq(W,C,worth)['scores']\n",
        "w_score=w_score.reset_index(drop=True)\n",
        "seq(W,C,worth)\n"
      ]
    },
    {
      "cell_type": "code",
      "execution_count": 50,
      "metadata": {
        "colab": {
          "base_uri": "https://localhost:8080/"
        },
        "id": "XdUTkYHTdUAX",
        "outputId": "5922d0c8-eb75-44c8-c590-9d59d3220e17"
      },
      "outputs": [
        {
          "name": "stdout",
          "output_type": "stream",
          "text": [
            "           difference  score\n",
            "Croatia      0.683248    2.0\n",
            "Argentina    0.635556    3.0\n",
            "Morocco      0.893675    1.0\n",
            "France       0.509060    4.0\n"
          ]
        }
      ],
      "source": [
        "AGE = pd.Series([M_age, F_age, A_age, C_age])\n",
        "a_score = AGE.rank(ascending = False)\n",
        "create_df(AGE, a_score)\n",
        "# a_score"
      ]
    },
    {
      "cell_type": "code",
      "execution_count": 51,
      "metadata": {
        "colab": {
          "base_uri": "https://localhost:8080/"
        },
        "id": "aGouEnC9dVE9",
        "outputId": "8a5be9d7-d394-4046-8f56-4c1691504bff"
      },
      "outputs": [
        {
          "name": "stdout",
          "output_type": "stream",
          "text": [
            "           difference  score\n",
            "Croatia      3.322222    2.0\n",
            "Argentina    2.408547    4.0\n",
            "Morocco      2.629915    3.0\n",
            "France       4.342222    1.0\n"
          ]
        }
      ],
      "source": [
        "HEIGHT = pd.Series([C_height, A_height, M_height, F_height])\n",
        "h_score = HEIGHT.rank(ascending = False)\n",
        "create_df(HEIGHT, h_score)\n"
      ]
    },
    {
      "cell_type": "code",
      "execution_count": 52,
      "metadata": {
        "colab": {
          "base_uri": "https://localhost:8080/"
        },
        "id": "UJKLtzDRdZqO",
        "outputId": "4027cc74-a9e1-4b81-e57c-242ae3a28e9b"
      },
      "outputs": [
        {
          "data": {
            "text/plain": [
              "0    2.0\n",
              "1    3.5\n",
              "2    1.5\n",
              "3    3.0\n",
              "dtype: float64"
            ]
          },
          "execution_count": 52,
          "metadata": {},
          "output_type": "execute_result"
        }
      ],
      "source": [
        "total = cal_total(a_score, h_score, w_score, g_score)\n",
        "t_score = total.rank(ascending=False)\n",
        "total"
      ]
    },
    {
      "cell_type": "code",
      "execution_count": 55,
      "metadata": {
        "colab": {
          "base_uri": "https://localhost:8080/"
        },
        "id": "GiTjYEj7eh7e",
        "outputId": "ec9fb640-7b7c-4f72-cc85-729092d726b6"
      },
      "outputs": [
        {
          "name": "stdout",
          "output_type": "stream",
          "text": [
            "           total score  rank\n",
            "Croatia            2.0   3.0\n",
            "Argentina          3.5   1.0\n",
            "Morocco            1.5   4.0\n",
            "France             3.0   2.0\n",
            "The winner is Argentina\n"
          ]
        }
      ],
      "source": [
        "winner(total, t_score)"
      ]
    }
  ],
  "metadata": {
    "colab": {
      "provenance": []
    },
    "kernelspec": {
      "display_name": "Python 3",
      "language": "python",
      "name": "python3"
    },
    "language_info": {
      "codemirror_mode": {
        "name": "ipython",
        "version": 3
      },
      "file_extension": ".py",
      "mimetype": "text/x-python",
      "name": "python",
      "nbconvert_exporter": "python",
      "pygments_lexer": "ipython3",
      "version": "3.10.6"
    },
    "vscode": {
      "interpreter": {
        "hash": "f6b026cb285963fccac196bc9c68d60bcb21b0877ee4bc9237abaf8eb9b3bfac"
      }
    }
  },
  "nbformat": 4,
  "nbformat_minor": 0
}
